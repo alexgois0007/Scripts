{
 "cells": [
  {
   "cell_type": "markdown",
   "metadata": {},
   "source": [
    "**Análise de Dados Bolsa de Valores**"
   ]
  },
  {
   "cell_type": "code",
   "execution_count": 1,
   "metadata": {},
   "outputs": [
    {
     "name": "stdout",
     "output_type": "stream",
     "text": [
      "Requirement already satisfied: pandas-datareader in c:\\users\\kellen\\anaconda3\\lib\\site-packages (0.9.0)\n",
      "Requirement already satisfied: requests>=2.19.0 in c:\\users\\kellen\\anaconda3\\lib\\site-packages (from pandas-datareader) (2.24.0)\n",
      "Requirement already satisfied: pandas>=0.23 in c:\\users\\kellen\\anaconda3\\lib\\site-packages (from pandas-datareader) (1.0.5)\n",
      "Requirement already satisfied: lxml in c:\\users\\kellen\\anaconda3\\lib\\site-packages (from pandas-datareader) (4.5.2)\n",
      "Requirement already satisfied: chardet<4,>=3.0.2 in c:\\users\\kellen\\anaconda3\\lib\\site-packages (from requests>=2.19.0->pandas-datareader) (3.0.4)\n",
      "Requirement already satisfied: certifi>=2017.4.17 in c:\\users\\kellen\\anaconda3\\lib\\site-packages (from requests>=2.19.0->pandas-datareader) (2020.6.20)\n",
      "Requirement already satisfied: idna<3,>=2.5 in c:\\users\\kellen\\anaconda3\\lib\\site-packages (from requests>=2.19.0->pandas-datareader) (2.10)\n",
      "Requirement already satisfied: urllib3!=1.25.0,!=1.25.1,<1.26,>=1.21.1 in c:\\users\\kellen\\anaconda3\\lib\\site-packages (from requests>=2.19.0->pandas-datareader) (1.25.9)\n",
      "Requirement already satisfied: python-dateutil>=2.6.1 in c:\\users\\kellen\\anaconda3\\lib\\site-packages (from pandas>=0.23->pandas-datareader) (2.8.1)\n",
      "Requirement already satisfied: numpy>=1.13.3 in c:\\users\\kellen\\anaconda3\\lib\\site-packages (from pandas>=0.23->pandas-datareader) (1.18.5)\n",
      "Requirement already satisfied: pytz>=2017.2 in c:\\users\\kellen\\anaconda3\\lib\\site-packages (from pandas>=0.23->pandas-datareader) (2020.1)\n",
      "Requirement already satisfied: six>=1.5 in c:\\users\\kellen\\anaconda3\\lib\\site-packages (from python-dateutil>=2.6.1->pandas>=0.23->pandas-datareader) (1.15.0)\n"
     ]
    }
   ],
   "source": [
    "#Importando as Bibliotecas Necessárias \n",
    "!pip install pandas-datareader \n",
    "import datetime\n",
    "import numpy as np"
   ]
  },
  {
   "cell_type": "code",
   "execution_count": 2,
   "metadata": {},
   "outputs": [],
   "source": [
    "import pandas_datareader as pdr\n",
    "import pandas as pd"
   ]
  },
  {
   "cell_type": "code",
   "execution_count": 3,
   "metadata": {},
   "outputs": [],
   "source": [
    "# Lendo a base de dados \n",
    "mglu3 = pdr.get_data_yahoo('MGLU3.SA', start=datetime.datetime(2015,1,1),\n",
    "                          end=datetime.datetime(2020,3,31))"
   ]
  },
  {
   "cell_type": "code",
   "execution_count": 4,
   "metadata": {},
   "outputs": [
    {
     "data": {
      "text/html": [
       "<div>\n",
       "<style scoped>\n",
       "    .dataframe tbody tr th:only-of-type {\n",
       "        vertical-align: middle;\n",
       "    }\n",
       "\n",
       "    .dataframe tbody tr th {\n",
       "        vertical-align: top;\n",
       "    }\n",
       "\n",
       "    .dataframe thead th {\n",
       "        text-align: right;\n",
       "    }\n",
       "</style>\n",
       "<table border=\"1\" class=\"dataframe\">\n",
       "  <thead>\n",
       "    <tr style=\"text-align: right;\">\n",
       "      <th></th>\n",
       "      <th>High</th>\n",
       "      <th>Low</th>\n",
       "      <th>Open</th>\n",
       "      <th>Close</th>\n",
       "      <th>Volume</th>\n",
       "      <th>Adj Close</th>\n",
       "    </tr>\n",
       "    <tr>\n",
       "      <th>Date</th>\n",
       "      <th></th>\n",
       "      <th></th>\n",
       "      <th></th>\n",
       "      <th></th>\n",
       "      <th></th>\n",
       "      <th></th>\n",
       "    </tr>\n",
       "  </thead>\n",
       "  <tbody>\n",
       "    <tr>\n",
       "      <th>2015-01-02</th>\n",
       "      <td>0.243750</td>\n",
       "      <td>0.231562</td>\n",
       "      <td>0.243750</td>\n",
       "      <td>0.232812</td>\n",
       "      <td>6323200.0</td>\n",
       "      <td>0.215415</td>\n",
       "    </tr>\n",
       "    <tr>\n",
       "      <th>2015-01-05</th>\n",
       "      <td>0.240625</td>\n",
       "      <td>0.229687</td>\n",
       "      <td>0.235625</td>\n",
       "      <td>0.237187</td>\n",
       "      <td>10326400.0</td>\n",
       "      <td>0.219463</td>\n",
       "    </tr>\n",
       "    <tr>\n",
       "      <th>2015-01-06</th>\n",
       "      <td>0.238437</td>\n",
       "      <td>0.233125</td>\n",
       "      <td>0.238437</td>\n",
       "      <td>0.234062</td>\n",
       "      <td>12572800.0</td>\n",
       "      <td>0.216571</td>\n",
       "    </tr>\n",
       "    <tr>\n",
       "      <th>2015-01-07</th>\n",
       "      <td>0.242187</td>\n",
       "      <td>0.234687</td>\n",
       "      <td>0.237500</td>\n",
       "      <td>0.241875</td>\n",
       "      <td>6454400.0</td>\n",
       "      <td>0.223800</td>\n",
       "    </tr>\n",
       "    <tr>\n",
       "      <th>2015-01-08</th>\n",
       "      <td>0.242187</td>\n",
       "      <td>0.237500</td>\n",
       "      <td>0.239375</td>\n",
       "      <td>0.240000</td>\n",
       "      <td>8393600.0</td>\n",
       "      <td>0.222066</td>\n",
       "    </tr>\n",
       "  </tbody>\n",
       "</table>\n",
       "</div>"
      ],
      "text/plain": [
       "                High       Low      Open     Close      Volume  Adj Close\n",
       "Date                                                                     \n",
       "2015-01-02  0.243750  0.231562  0.243750  0.232812   6323200.0   0.215415\n",
       "2015-01-05  0.240625  0.229687  0.235625  0.237187  10326400.0   0.219463\n",
       "2015-01-06  0.238437  0.233125  0.238437  0.234062  12572800.0   0.216571\n",
       "2015-01-07  0.242187  0.234687  0.237500  0.241875   6454400.0   0.223800\n",
       "2015-01-08  0.242187  0.237500  0.239375  0.240000   8393600.0   0.222066"
      ]
     },
     "execution_count": 4,
     "metadata": {},
     "output_type": "execute_result"
    }
   ],
   "source": [
    "mglu3.head()"
   ]
  },
  {
   "cell_type": "code",
   "execution_count": 5,
   "metadata": {},
   "outputs": [],
   "source": [
    "petr4 = pdr.get_data_yahoo('PETR4.SA', start=datetime.datetime(2015,1,1),\n",
    "                          end=datetime.datetime(2020,3,31))"
   ]
  },
  {
   "cell_type": "code",
   "execution_count": 6,
   "metadata": {},
   "outputs": [
    {
     "data": {
      "text/html": [
       "<div>\n",
       "<style scoped>\n",
       "    .dataframe tbody tr th:only-of-type {\n",
       "        vertical-align: middle;\n",
       "    }\n",
       "\n",
       "    .dataframe tbody tr th {\n",
       "        vertical-align: top;\n",
       "    }\n",
       "\n",
       "    .dataframe thead th {\n",
       "        text-align: right;\n",
       "    }\n",
       "</style>\n",
       "<table border=\"1\" class=\"dataframe\">\n",
       "  <thead>\n",
       "    <tr style=\"text-align: right;\">\n",
       "      <th></th>\n",
       "      <th>High</th>\n",
       "      <th>Low</th>\n",
       "      <th>Open</th>\n",
       "      <th>Close</th>\n",
       "      <th>Volume</th>\n",
       "      <th>Adj Close</th>\n",
       "    </tr>\n",
       "    <tr>\n",
       "      <th>Date</th>\n",
       "      <th></th>\n",
       "      <th></th>\n",
       "      <th></th>\n",
       "      <th></th>\n",
       "      <th></th>\n",
       "      <th></th>\n",
       "    </tr>\n",
       "  </thead>\n",
       "  <tbody>\n",
       "    <tr>\n",
       "      <th>2015-01-02</th>\n",
       "      <td>9.99</td>\n",
       "      <td>9.35</td>\n",
       "      <td>9.99</td>\n",
       "      <td>9.36</td>\n",
       "      <td>49559500.0</td>\n",
       "      <td>8.400862</td>\n",
       "    </tr>\n",
       "    <tr>\n",
       "      <th>2015-01-05</th>\n",
       "      <td>9.19</td>\n",
       "      <td>8.53</td>\n",
       "      <td>9.14</td>\n",
       "      <td>8.56</td>\n",
       "      <td>78385100.0</td>\n",
       "      <td>7.682839</td>\n",
       "    </tr>\n",
       "    <tr>\n",
       "      <th>2015-01-06</th>\n",
       "      <td>8.83</td>\n",
       "      <td>8.04</td>\n",
       "      <td>8.71</td>\n",
       "      <td>8.28</td>\n",
       "      <td>84723300.0</td>\n",
       "      <td>7.431530</td>\n",
       "    </tr>\n",
       "    <tr>\n",
       "      <th>2015-01-07</th>\n",
       "      <td>8.73</td>\n",
       "      <td>8.36</td>\n",
       "      <td>8.56</td>\n",
       "      <td>8.67</td>\n",
       "      <td>85531000.0</td>\n",
       "      <td>7.781567</td>\n",
       "    </tr>\n",
       "    <tr>\n",
       "      <th>2015-01-08</th>\n",
       "      <td>9.39</td>\n",
       "      <td>8.74</td>\n",
       "      <td>8.79</td>\n",
       "      <td>9.23</td>\n",
       "      <td>83306300.0</td>\n",
       "      <td>8.284181</td>\n",
       "    </tr>\n",
       "  </tbody>\n",
       "</table>\n",
       "</div>"
      ],
      "text/plain": [
       "            High   Low  Open  Close      Volume  Adj Close\n",
       "Date                                                      \n",
       "2015-01-02  9.99  9.35  9.99   9.36  49559500.0   8.400862\n",
       "2015-01-05  9.19  8.53  9.14   8.56  78385100.0   7.682839\n",
       "2015-01-06  8.83  8.04  8.71   8.28  84723300.0   7.431530\n",
       "2015-01-07  8.73  8.36  8.56   8.67  85531000.0   7.781567\n",
       "2015-01-08  9.39  8.74  8.79   9.23  83306300.0   8.284181"
      ]
     },
     "execution_count": 6,
     "metadata": {},
     "output_type": "execute_result"
    }
   ],
   "source": [
    "petr4.head()"
   ]
  },
  {
   "cell_type": "markdown",
   "metadata": {},
   "source": [
    "**Variação dos Preços**"
   ]
  },
  {
   "cell_type": "code",
   "execution_count": 7,
   "metadata": {},
   "outputs": [
    {
     "data": {
      "text/html": [
       "<div>\n",
       "<style scoped>\n",
       "    .dataframe tbody tr th:only-of-type {\n",
       "        vertical-align: middle;\n",
       "    }\n",
       "\n",
       "    .dataframe tbody tr th {\n",
       "        vertical-align: top;\n",
       "    }\n",
       "\n",
       "    .dataframe thead th {\n",
       "        text-align: right;\n",
       "    }\n",
       "</style>\n",
       "<table border=\"1\" class=\"dataframe\">\n",
       "  <thead>\n",
       "    <tr style=\"text-align: right;\">\n",
       "      <th></th>\n",
       "      <th>High</th>\n",
       "      <th>Low</th>\n",
       "      <th>Open</th>\n",
       "      <th>Close</th>\n",
       "      <th>Volume</th>\n",
       "      <th>Adj Close</th>\n",
       "      <th>Variation</th>\n",
       "    </tr>\n",
       "    <tr>\n",
       "      <th>Date</th>\n",
       "      <th></th>\n",
       "      <th></th>\n",
       "      <th></th>\n",
       "      <th></th>\n",
       "      <th></th>\n",
       "      <th></th>\n",
       "      <th></th>\n",
       "    </tr>\n",
       "  </thead>\n",
       "  <tbody>\n",
       "    <tr>\n",
       "      <th>2015-01-02</th>\n",
       "      <td>0.243750</td>\n",
       "      <td>0.231562</td>\n",
       "      <td>0.243750</td>\n",
       "      <td>0.232812</td>\n",
       "      <td>6323200.0</td>\n",
       "      <td>0.215415</td>\n",
       "      <td>-0.010938</td>\n",
       "    </tr>\n",
       "    <tr>\n",
       "      <th>2015-01-05</th>\n",
       "      <td>0.240625</td>\n",
       "      <td>0.229687</td>\n",
       "      <td>0.235625</td>\n",
       "      <td>0.237187</td>\n",
       "      <td>10326400.0</td>\n",
       "      <td>0.219463</td>\n",
       "      <td>0.001562</td>\n",
       "    </tr>\n",
       "    <tr>\n",
       "      <th>2015-01-06</th>\n",
       "      <td>0.238437</td>\n",
       "      <td>0.233125</td>\n",
       "      <td>0.238437</td>\n",
       "      <td>0.234062</td>\n",
       "      <td>12572800.0</td>\n",
       "      <td>0.216571</td>\n",
       "      <td>-0.004375</td>\n",
       "    </tr>\n",
       "    <tr>\n",
       "      <th>2015-01-07</th>\n",
       "      <td>0.242187</td>\n",
       "      <td>0.234687</td>\n",
       "      <td>0.237500</td>\n",
       "      <td>0.241875</td>\n",
       "      <td>6454400.0</td>\n",
       "      <td>0.223800</td>\n",
       "      <td>0.004375</td>\n",
       "    </tr>\n",
       "    <tr>\n",
       "      <th>2015-01-08</th>\n",
       "      <td>0.242187</td>\n",
       "      <td>0.237500</td>\n",
       "      <td>0.239375</td>\n",
       "      <td>0.240000</td>\n",
       "      <td>8393600.0</td>\n",
       "      <td>0.222066</td>\n",
       "      <td>0.000625</td>\n",
       "    </tr>\n",
       "  </tbody>\n",
       "</table>\n",
       "</div>"
      ],
      "text/plain": [
       "                High       Low      Open     Close      Volume  Adj Close  \\\n",
       "Date                                                                        \n",
       "2015-01-02  0.243750  0.231562  0.243750  0.232812   6323200.0   0.215415   \n",
       "2015-01-05  0.240625  0.229687  0.235625  0.237187  10326400.0   0.219463   \n",
       "2015-01-06  0.238437  0.233125  0.238437  0.234062  12572800.0   0.216571   \n",
       "2015-01-07  0.242187  0.234687  0.237500  0.241875   6454400.0   0.223800   \n",
       "2015-01-08  0.242187  0.237500  0.239375  0.240000   8393600.0   0.222066   \n",
       "\n",
       "            Variation  \n",
       "Date                   \n",
       "2015-01-02  -0.010938  \n",
       "2015-01-05   0.001562  \n",
       "2015-01-06  -0.004375  \n",
       "2015-01-07   0.004375  \n",
       "2015-01-08   0.000625  "
      ]
     },
     "execution_count": 7,
     "metadata": {},
     "output_type": "execute_result"
    }
   ],
   "source": [
    "mglu3['Variation'] = mglu3['Close'].sub(mglu3['Open'])\n",
    "mglu3.head()"
   ]
  },
  {
   "cell_type": "code",
   "execution_count": 9,
   "metadata": {},
   "outputs": [
    {
     "data": {
      "text/html": [
       "<div>\n",
       "<style scoped>\n",
       "    .dataframe tbody tr th:only-of-type {\n",
       "        vertical-align: middle;\n",
       "    }\n",
       "\n",
       "    .dataframe tbody tr th {\n",
       "        vertical-align: top;\n",
       "    }\n",
       "\n",
       "    .dataframe thead th {\n",
       "        text-align: right;\n",
       "    }\n",
       "</style>\n",
       "<table border=\"1\" class=\"dataframe\">\n",
       "  <thead>\n",
       "    <tr style=\"text-align: right;\">\n",
       "      <th></th>\n",
       "      <th>High</th>\n",
       "      <th>Low</th>\n",
       "      <th>Open</th>\n",
       "      <th>Close</th>\n",
       "      <th>Volume</th>\n",
       "      <th>Adj Close</th>\n",
       "      <th>Variation</th>\n",
       "    </tr>\n",
       "    <tr>\n",
       "      <th>Date</th>\n",
       "      <th></th>\n",
       "      <th></th>\n",
       "      <th></th>\n",
       "      <th></th>\n",
       "      <th></th>\n",
       "      <th></th>\n",
       "      <th></th>\n",
       "    </tr>\n",
       "  </thead>\n",
       "  <tbody>\n",
       "    <tr>\n",
       "      <th>2015-01-02</th>\n",
       "      <td>9.99</td>\n",
       "      <td>9.35</td>\n",
       "      <td>9.99</td>\n",
       "      <td>9.36</td>\n",
       "      <td>49559500.0</td>\n",
       "      <td>8.400862</td>\n",
       "      <td>-0.63</td>\n",
       "    </tr>\n",
       "    <tr>\n",
       "      <th>2015-01-05</th>\n",
       "      <td>9.19</td>\n",
       "      <td>8.53</td>\n",
       "      <td>9.14</td>\n",
       "      <td>8.56</td>\n",
       "      <td>78385100.0</td>\n",
       "      <td>7.682839</td>\n",
       "      <td>-0.58</td>\n",
       "    </tr>\n",
       "    <tr>\n",
       "      <th>2015-01-06</th>\n",
       "      <td>8.83</td>\n",
       "      <td>8.04</td>\n",
       "      <td>8.71</td>\n",
       "      <td>8.28</td>\n",
       "      <td>84723300.0</td>\n",
       "      <td>7.431530</td>\n",
       "      <td>-0.43</td>\n",
       "    </tr>\n",
       "    <tr>\n",
       "      <th>2015-01-07</th>\n",
       "      <td>8.73</td>\n",
       "      <td>8.36</td>\n",
       "      <td>8.56</td>\n",
       "      <td>8.67</td>\n",
       "      <td>85531000.0</td>\n",
       "      <td>7.781567</td>\n",
       "      <td>0.11</td>\n",
       "    </tr>\n",
       "    <tr>\n",
       "      <th>2015-01-08</th>\n",
       "      <td>9.39</td>\n",
       "      <td>8.74</td>\n",
       "      <td>8.79</td>\n",
       "      <td>9.23</td>\n",
       "      <td>83306300.0</td>\n",
       "      <td>8.284181</td>\n",
       "      <td>0.44</td>\n",
       "    </tr>\n",
       "  </tbody>\n",
       "</table>\n",
       "</div>"
      ],
      "text/plain": [
       "            High   Low  Open  Close      Volume  Adj Close  Variation\n",
       "Date                                                                 \n",
       "2015-01-02  9.99  9.35  9.99   9.36  49559500.0   8.400862      -0.63\n",
       "2015-01-05  9.19  8.53  9.14   8.56  78385100.0   7.682839      -0.58\n",
       "2015-01-06  8.83  8.04  8.71   8.28  84723300.0   7.431530      -0.43\n",
       "2015-01-07  8.73  8.36  8.56   8.67  85531000.0   7.781567       0.11\n",
       "2015-01-08  9.39  8.74  8.79   9.23  83306300.0   8.284181       0.44"
      ]
     },
     "execution_count": 9,
     "metadata": {},
     "output_type": "execute_result"
    }
   ],
   "source": [
    "petr4['Variation'] = petr4['Close'].sub(petr4['Open'])\n",
    "petr4.head()"
   ]
  },
  {
   "cell_type": "code",
   "execution_count": 21,
   "metadata": {},
   "outputs": [
    {
     "name": "stdout",
     "output_type": "stream",
     "text": [
      "Requirement already satisfied: plotly in c:\\users\\kellen\\anaconda3\\lib\\site-packages (4.14.1)\n",
      "Requirement already satisfied: retrying>=1.3.3 in c:\\users\\kellen\\anaconda3\\lib\\site-packages (from plotly) (1.3.3)\n",
      "Requirement already satisfied: six in c:\\users\\kellen\\anaconda3\\lib\\site-packages (from plotly) (1.15.0)\n"
     ]
    },
    {
     "data": {
      "text/html": [
       "        <script type=\"text/javascript\">\n",
       "        window.PlotlyConfig = {MathJaxConfig: 'local'};\n",
       "        if (window.MathJax) {MathJax.Hub.Config({SVG: {font: \"STIX-Web\"}});}\n",
       "        if (typeof require !== 'undefined') {\n",
       "        require.undef(\"plotly\");\n",
       "        requirejs.config({\n",
       "            paths: {\n",
       "                'plotly': ['https://cdn.plot.ly/plotly-latest.min']\n",
       "            }\n",
       "        });\n",
       "        require(['plotly'], function(Plotly) {\n",
       "            window._Plotly = Plotly;\n",
       "        });\n",
       "        }\n",
       "        </script>\n",
       "        "
      ]
     },
     "metadata": {},
     "output_type": "display_data"
    }
   ],
   "source": [
    "!pip install plotly\n",
    "import plotly\n",
    "import plotly.offline as py\n",
    "import plotly.graph_objs as go\n",
    "import numpy as np\n",
    "import plotly.graph_objs as go\n",
    "py.init_notebook_mode(connected=True)\n",
    "from pandas_datareader import data as wb\n",
    "import matplotlib.pyplot as plt"
   ]
  },
  {
   "cell_type": "markdown",
   "metadata": {},
   "source": [
    "**Retornos Diários**"
   ]
  },
  {
   "cell_type": "code",
   "execution_count": 22,
   "metadata": {},
   "outputs": [],
   "source": [
    "TickerA='MGLU3.SA'\n",
    "TickerB='PETR4.SA'\n",
    "prices=pd.DataFrame()\n",
    "tickers = [TickerA, TickerB]\n",
    "for t in tickers:\n",
    "    prices[t]=wb.DataReader(t, data_source='yahoo', start='2015-1-1')['Adj Close']"
   ]
  },
  {
   "cell_type": "code",
   "execution_count": 23,
   "metadata": {},
   "outputs": [
    {
     "data": {
      "image/png": "[encoded data removed]",
      "text/plain": [
       "<Figure size 1080x360 with 1 Axes>"
      ]
     },
     "metadata": {
      "needs_background": "light"
     },
     "output_type": "display_data"
    }
   ],
   "source": [
    "log_returns=np.log(prices/prices.shift(1))\n",
    "log_returns.plot(figsize=(15,5))\n",
    "plt.ylabel('LOG DOS RETORNOS DIÁRIOS')\n",
    "plt.xlabel('DATA')\n",
    "plt.show()"
   ]
  },
  {
   "cell_type": "markdown",
   "metadata": {},
   "source": [
    "**Retornos Diários Médios**"
   ]
  },
  {
   "cell_type": "code",
   "execution_count": 24,
   "metadata": {},
   "outputs": [
    {
     "data": {
      "text/plain": [
       "MGLU3.SA    0.002917\n",
       "PETR4.SA    0.000670\n",
       "dtype: float64"
      ]
     },
     "execution_count": 24,
     "metadata": {},
     "output_type": "execute_result"
    }
   ],
   "source": [
    "log_returns.mean()"
   ]
  },
  {
   "cell_type": "markdown",
   "metadata": {},
   "source": [
    "**Retornos Médios Anuais**"
   ]
  },
  {
   "cell_type": "code",
   "execution_count": 25,
   "metadata": {},
   "outputs": [
    {
     "data": {
      "text/plain": [
       "MGLU3.SA    0.729365\n",
       "PETR4.SA    0.167394\n",
       "dtype: float64"
      ]
     },
     "execution_count": 25,
     "metadata": {},
     "output_type": "execute_result"
    }
   ],
   "source": [
    "log_returns.mean()*250"
   ]
  },
  {
   "cell_type": "markdown",
   "metadata": {},
   "source": [
    "**Modelo de Regressão Linear**\n",
    "\n",
    "A Regressão Linear é uma técnica que consiste em uma equação linear que usa valores de entrada para predizer valores de saída.\n",
    "\n",
    "Essa equação utiliza coeficientes que são aplicados a valores de entrada para predizer as saídas."
   ]
  },
  {
   "cell_type": "markdown",
   "metadata": {},
   "source": [
    "**Modelo**"
   ]
  },
  {
   "cell_type": "code",
   "execution_count": 31,
   "metadata": {},
   "outputs": [],
   "source": [
    "treino = mglu3"
   ]
  },
  {
   "cell_type": "code",
   "execution_count": 35,
   "metadata": {},
   "outputs": [
    {
     "data": {
      "text/html": [
       "<div>\n",
       "<style scoped>\n",
       "    .dataframe tbody tr th:only-of-type {\n",
       "        vertical-align: middle;\n",
       "    }\n",
       "\n",
       "    .dataframe tbody tr th {\n",
       "        vertical-align: top;\n",
       "    }\n",
       "\n",
       "    .dataframe thead th {\n",
       "        text-align: right;\n",
       "    }\n",
       "</style>\n",
       "<table border=\"1\" class=\"dataframe\">\n",
       "  <thead>\n",
       "    <tr style=\"text-align: right;\">\n",
       "      <th></th>\n",
       "      <th>Open</th>\n",
       "      <th>High</th>\n",
       "      <th>Low</th>\n",
       "      <th>Volume</th>\n",
       "    </tr>\n",
       "    <tr>\n",
       "      <th>Date</th>\n",
       "      <th></th>\n",
       "      <th></th>\n",
       "      <th></th>\n",
       "      <th></th>\n",
       "    </tr>\n",
       "  </thead>\n",
       "  <tbody>\n",
       "    <tr>\n",
       "      <th>2015-01-02</th>\n",
       "      <td>0.243750</td>\n",
       "      <td>0.243750</td>\n",
       "      <td>0.231562</td>\n",
       "      <td>6323200.0</td>\n",
       "    </tr>\n",
       "    <tr>\n",
       "      <th>2015-01-05</th>\n",
       "      <td>0.235625</td>\n",
       "      <td>0.240625</td>\n",
       "      <td>0.229687</td>\n",
       "      <td>10326400.0</td>\n",
       "    </tr>\n",
       "    <tr>\n",
       "      <th>2015-01-06</th>\n",
       "      <td>0.238437</td>\n",
       "      <td>0.238437</td>\n",
       "      <td>0.233125</td>\n",
       "      <td>12572800.0</td>\n",
       "    </tr>\n",
       "    <tr>\n",
       "      <th>2015-01-07</th>\n",
       "      <td>0.237500</td>\n",
       "      <td>0.242187</td>\n",
       "      <td>0.234687</td>\n",
       "      <td>6454400.0</td>\n",
       "    </tr>\n",
       "    <tr>\n",
       "      <th>2015-01-08</th>\n",
       "      <td>0.239375</td>\n",
       "      <td>0.242187</td>\n",
       "      <td>0.237500</td>\n",
       "      <td>8393600.0</td>\n",
       "    </tr>\n",
       "  </tbody>\n",
       "</table>\n",
       "</div>"
      ],
      "text/plain": [
       "                Open      High       Low      Volume\n",
       "Date                                                \n",
       "2015-01-02  0.243750  0.243750  0.231562   6323200.0\n",
       "2015-01-05  0.235625  0.240625  0.229687  10326400.0\n",
       "2015-01-06  0.238437  0.238437  0.233125  12572800.0\n",
       "2015-01-07  0.237500  0.242187  0.234687   6454400.0\n",
       "2015-01-08  0.239375  0.242187  0.237500   8393600.0"
      ]
     },
     "execution_count": 35,
     "metadata": {},
     "output_type": "execute_result"
    }
   ],
   "source": [
    "features = ['Open','High','Low','Volume']\n",
    "treino = treino[features]\n",
    "treino.head()"
   ]
  },
  {
   "cell_type": "code",
   "execution_count": 33,
   "metadata": {},
   "outputs": [],
   "source": [
    "treino1 = petr4"
   ]
  },
  {
   "cell_type": "code",
   "execution_count": 36,
   "metadata": {},
   "outputs": [
    {
     "data": {
      "text/html": [
       "<div>\n",
       "<style scoped>\n",
       "    .dataframe tbody tr th:only-of-type {\n",
       "        vertical-align: middle;\n",
       "    }\n",
       "\n",
       "    .dataframe tbody tr th {\n",
       "        vertical-align: top;\n",
       "    }\n",
       "\n",
       "    .dataframe thead th {\n",
       "        text-align: right;\n",
       "    }\n",
       "</style>\n",
       "<table border=\"1\" class=\"dataframe\">\n",
       "  <thead>\n",
       "    <tr style=\"text-align: right;\">\n",
       "      <th></th>\n",
       "      <th>Open</th>\n",
       "      <th>High</th>\n",
       "      <th>Low</th>\n",
       "      <th>Volume</th>\n",
       "    </tr>\n",
       "    <tr>\n",
       "      <th>Date</th>\n",
       "      <th></th>\n",
       "      <th></th>\n",
       "      <th></th>\n",
       "      <th></th>\n",
       "    </tr>\n",
       "  </thead>\n",
       "  <tbody>\n",
       "    <tr>\n",
       "      <th>2015-01-02</th>\n",
       "      <td>9.99</td>\n",
       "      <td>9.99</td>\n",
       "      <td>9.35</td>\n",
       "      <td>49559500.0</td>\n",
       "    </tr>\n",
       "    <tr>\n",
       "      <th>2015-01-05</th>\n",
       "      <td>9.14</td>\n",
       "      <td>9.19</td>\n",
       "      <td>8.53</td>\n",
       "      <td>78385100.0</td>\n",
       "    </tr>\n",
       "    <tr>\n",
       "      <th>2015-01-06</th>\n",
       "      <td>8.71</td>\n",
       "      <td>8.83</td>\n",
       "      <td>8.04</td>\n",
       "      <td>84723300.0</td>\n",
       "    </tr>\n",
       "    <tr>\n",
       "      <th>2015-01-07</th>\n",
       "      <td>8.56</td>\n",
       "      <td>8.73</td>\n",
       "      <td>8.36</td>\n",
       "      <td>85531000.0</td>\n",
       "    </tr>\n",
       "    <tr>\n",
       "      <th>2015-01-08</th>\n",
       "      <td>8.79</td>\n",
       "      <td>9.39</td>\n",
       "      <td>8.74</td>\n",
       "      <td>83306300.0</td>\n",
       "    </tr>\n",
       "  </tbody>\n",
       "</table>\n",
       "</div>"
      ],
      "text/plain": [
       "            Open  High   Low      Volume\n",
       "Date                                    \n",
       "2015-01-02  9.99  9.99  9.35  49559500.0\n",
       "2015-01-05  9.14  9.19  8.53  78385100.0\n",
       "2015-01-06  8.71  8.83  8.04  84723300.0\n",
       "2015-01-07  8.56  8.73  8.36  85531000.0\n",
       "2015-01-08  8.79  9.39  8.74  83306300.0"
      ]
     },
     "execution_count": 36,
     "metadata": {},
     "output_type": "execute_result"
    }
   ],
   "source": [
    "features = ['Open','High','Low','Volume']\n",
    "treino1 = treino1[features]\n",
    "treino1.head()"
   ]
  },
  {
   "cell_type": "code",
   "execution_count": 37,
   "metadata": {},
   "outputs": [],
   "source": [
    "y = mglu3['Close']"
   ]
  },
  {
   "cell_type": "code",
   "execution_count": 38,
   "metadata": {},
   "outputs": [],
   "source": [
    "z = petr4['Close']"
   ]
  },
  {
   "cell_type": "code",
   "execution_count": 49,
   "metadata": {},
   "outputs": [],
   "source": [
    "from sklearn.model_selection import train_test_split\n",
    "from sklearn.metrics import mean_squared_error\n",
    "from sklearn.linear_model import LinearRegression"
   ]
  },
  {
   "cell_type": "markdown",
   "metadata": {},
   "source": [
    "**Fazendo Predições**"
   ]
  },
  {
   "cell_type": "code",
   "execution_count": 41,
   "metadata": {},
   "outputs": [],
   "source": [
    "X_treino, X_teste, y_treino, y_teste = train_test_split(\n",
    "treino, y,random_state=42)"
   ]
  },
  {
   "cell_type": "code",
   "execution_count": 42,
   "metadata": {},
   "outputs": [
    {
     "data": {
      "text/html": [
       "<div>\n",
       "<style scoped>\n",
       "    .dataframe tbody tr th:only-of-type {\n",
       "        vertical-align: middle;\n",
       "    }\n",
       "\n",
       "    .dataframe tbody tr th {\n",
       "        vertical-align: top;\n",
       "    }\n",
       "\n",
       "    .dataframe thead th {\n",
       "        text-align: right;\n",
       "    }\n",
       "</style>\n",
       "<table border=\"1\" class=\"dataframe\">\n",
       "  <thead>\n",
       "    <tr style=\"text-align: right;\">\n",
       "      <th></th>\n",
       "      <th>Open</th>\n",
       "      <th>High</th>\n",
       "      <th>Low</th>\n",
       "      <th>Volume</th>\n",
       "    </tr>\n",
       "    <tr>\n",
       "      <th>Date</th>\n",
       "      <th></th>\n",
       "      <th></th>\n",
       "      <th></th>\n",
       "      <th></th>\n",
       "    </tr>\n",
       "  </thead>\n",
       "  <tbody>\n",
       "    <tr>\n",
       "      <th>2017-08-18</th>\n",
       "      <td>1.691406</td>\n",
       "      <td>1.831992</td>\n",
       "      <td>1.660156</td>\n",
       "      <td>70041600.0</td>\n",
       "    </tr>\n",
       "    <tr>\n",
       "      <th>2017-09-08</th>\n",
       "      <td>2.695625</td>\n",
       "      <td>2.728125</td>\n",
       "      <td>2.437500</td>\n",
       "      <td>71171200.0</td>\n",
       "    </tr>\n",
       "    <tr>\n",
       "      <th>2017-10-16</th>\n",
       "      <td>2.287500</td>\n",
       "      <td>2.335937</td>\n",
       "      <td>2.154062</td>\n",
       "      <td>102384000.0</td>\n",
       "    </tr>\n",
       "    <tr>\n",
       "      <th>2015-11-10</th>\n",
       "      <td>0.042968</td>\n",
       "      <td>0.043750</td>\n",
       "      <td>0.040625</td>\n",
       "      <td>115302400.0</td>\n",
       "    </tr>\n",
       "    <tr>\n",
       "      <th>2015-01-28</th>\n",
       "      <td>0.207187</td>\n",
       "      <td>0.210625</td>\n",
       "      <td>0.200937</td>\n",
       "      <td>17606400.0</td>\n",
       "    </tr>\n",
       "  </tbody>\n",
       "</table>\n",
       "</div>"
      ],
      "text/plain": [
       "                Open      High       Low       Volume\n",
       "Date                                                 \n",
       "2017-08-18  1.691406  1.831992  1.660156   70041600.0\n",
       "2017-09-08  2.695625  2.728125  2.437500   71171200.0\n",
       "2017-10-16  2.287500  2.335937  2.154062  102384000.0\n",
       "2015-11-10  0.042968  0.043750  0.040625  115302400.0\n",
       "2015-01-28  0.207187  0.210625  0.200937   17606400.0"
      ]
     },
     "execution_count": 42,
     "metadata": {},
     "output_type": "execute_result"
    }
   ],
   "source": [
    "X_treino.head()"
   ]
  },
  {
   "cell_type": "code",
   "execution_count": 45,
   "metadata": {},
   "outputs": [],
   "source": [
    "X_treino, X_teste, y_treino, y_teste = train_test_split(\n",
    "treino1, z,random_state=42)"
   ]
  },
  {
   "cell_type": "code",
   "execution_count": 47,
   "metadata": {},
   "outputs": [
    {
     "data": {
      "text/html": [
       "<div>\n",
       "<style scoped>\n",
       "    .dataframe tbody tr th:only-of-type {\n",
       "        vertical-align: middle;\n",
       "    }\n",
       "\n",
       "    .dataframe tbody tr th {\n",
       "        vertical-align: top;\n",
       "    }\n",
       "\n",
       "    .dataframe thead th {\n",
       "        text-align: right;\n",
       "    }\n",
       "</style>\n",
       "<table border=\"1\" class=\"dataframe\">\n",
       "  <thead>\n",
       "    <tr style=\"text-align: right;\">\n",
       "      <th></th>\n",
       "      <th>Open</th>\n",
       "      <th>High</th>\n",
       "      <th>Low</th>\n",
       "      <th>Volume</th>\n",
       "    </tr>\n",
       "    <tr>\n",
       "      <th>Date</th>\n",
       "      <th></th>\n",
       "      <th></th>\n",
       "      <th></th>\n",
       "      <th></th>\n",
       "    </tr>\n",
       "  </thead>\n",
       "  <tbody>\n",
       "    <tr>\n",
       "      <th>2019-04-22</th>\n",
       "      <td>27.690001</td>\n",
       "      <td>27.889999</td>\n",
       "      <td>27.32</td>\n",
       "      <td>45321900.0</td>\n",
       "    </tr>\n",
       "    <tr>\n",
       "      <th>2019-12-17</th>\n",
       "      <td>29.639999</td>\n",
       "      <td>29.900000</td>\n",
       "      <td>29.43</td>\n",
       "      <td>40679900.0</td>\n",
       "    </tr>\n",
       "    <tr>\n",
       "      <th>2019-05-21</th>\n",
       "      <td>25.700001</td>\n",
       "      <td>26.490000</td>\n",
       "      <td>25.42</td>\n",
       "      <td>57846700.0</td>\n",
       "    </tr>\n",
       "    <tr>\n",
       "      <th>2016-02-02</th>\n",
       "      <td>4.560000</td>\n",
       "      <td>4.650000</td>\n",
       "      <td>4.30</td>\n",
       "      <td>53610300.0</td>\n",
       "    </tr>\n",
       "    <tr>\n",
       "      <th>2016-05-03</th>\n",
       "      <td>10.010000</td>\n",
       "      <td>10.090000</td>\n",
       "      <td>9.71</td>\n",
       "      <td>47074700.0</td>\n",
       "    </tr>\n",
       "  </tbody>\n",
       "</table>\n",
       "</div>"
      ],
      "text/plain": [
       "                 Open       High    Low      Volume\n",
       "Date                                               \n",
       "2019-04-22  27.690001  27.889999  27.32  45321900.0\n",
       "2019-12-17  29.639999  29.900000  29.43  40679900.0\n",
       "2019-05-21  25.700001  26.490000  25.42  57846700.0\n",
       "2016-02-02   4.560000   4.650000   4.30  53610300.0\n",
       "2016-05-03  10.010000  10.090000   9.71  47074700.0"
      ]
     },
     "execution_count": 47,
     "metadata": {},
     "output_type": "execute_result"
    }
   ],
   "source": [
    "X_treino.head()"
   ]
  },
  {
   "cell_type": "code",
   "execution_count": 50,
   "metadata": {},
   "outputs": [],
   "source": [
    "lr_model = LinearRegression()"
   ]
  },
  {
   "cell_type": "code",
   "execution_count": 51,
   "metadata": {},
   "outputs": [
    {
     "data": {
      "text/plain": [
       "LinearRegression()"
      ]
     },
     "execution_count": 51,
     "metadata": {},
     "output_type": "execute_result"
    }
   ],
   "source": [
    "lr_model.fit(X_treino,y_treino)"
   ]
  },
  {
   "cell_type": "code",
   "execution_count": 53,
   "metadata": {},
   "outputs": [
    {
     "data": {
      "text/plain": [
       "array([-7.44929456e-01,  9.13465324e-01,  8.31082603e-01,  4.75930406e-12])"
      ]
     },
     "execution_count": 53,
     "metadata": {},
     "output_type": "execute_result"
    }
   ],
   "source": [
    "lr_model.coef_"
   ]
  },
  {
   "cell_type": "code",
   "execution_count": 54,
   "metadata": {},
   "outputs": [
    {
     "data": {
      "text/plain": [
       "array([15.8809358 , 15.8219973 ,  8.38678597, 15.85426793, 30.38853473,\n",
       "       13.21767596, 21.82791933, 16.19648818, 26.11917288, 12.47680178])"
      ]
     },
     "execution_count": 54,
     "metadata": {},
     "output_type": "execute_result"
    }
   ],
   "source": [
    "lr_model.predict(X_teste)[:10]"
   ]
  },
  {
   "cell_type": "markdown",
   "metadata": {},
   "source": [
    "**Comparando os Resultados da Tabela**"
   ]
  },
  {
   "cell_type": "code",
   "execution_count": 55,
   "metadata": {},
   "outputs": [
    {
     "data": {
      "text/plain": [
       "Date\n",
       "2016-12-07    15.860000\n",
       "2017-11-27    15.870000\n",
       "2016-04-11     8.390000\n",
       "2018-06-01    16.160000\n",
       "2020-02-19    30.549999\n",
       "2015-06-22    13.170000\n",
       "2018-04-11    21.799999\n",
       "2017-11-23    16.190001\n",
       "2019-08-08    26.350000\n",
       "2015-06-01    12.360000\n",
       "Name: Close, dtype: float64"
      ]
     },
     "execution_count": 55,
     "metadata": {},
     "output_type": "execute_result"
    }
   ],
   "source": [
    "y_teste[:10]"
   ]
  },
  {
   "cell_type": "code",
   "execution_count": 56,
   "metadata": {},
   "outputs": [
    {
     "data": {
      "text/plain": [
       "array([15.8809358 , 15.8219973 ,  8.38678597, 15.85426793, 30.38853473,\n",
       "       13.21767596, 21.82791933, 16.19648818, 26.11917288, 12.47680178])"
      ]
     },
     "execution_count": 56,
     "metadata": {},
     "output_type": "execute_result"
    }
   ],
   "source": [
    "lr_model.predict(X_teste)[:10]"
   ]
  },
  {
   "cell_type": "markdown",
   "metadata": {},
   "source": [
    "**Validando o Modelo**"
   ]
  },
  {
   "cell_type": "code",
   "execution_count": 57,
   "metadata": {},
   "outputs": [
    {
     "data": {
      "text/plain": [
       "0.17603956052669897"
      ]
     },
     "execution_count": 57,
     "metadata": {},
     "output_type": "execute_result"
    }
   ],
   "source": [
    "RMSE = mean_squared_error(y_teste, lr_model.predict(X_teste))**0.5\n",
    "RMSE"
   ]
  }
 ],
 "metadata": {
  "kernelspec": {
   "display_name": "Python 3",
   "language": "python",
   "name": "python3"
  },
  "language_info": {
   "codemirror_mode": {
    "name": "ipython",
    "version": 3
   },
   "file_extension": ".py",
   "mimetype": "text/x-python",
   "name": "python",
   "nbconvert_exporter": "python",
   "pygments_lexer": "ipython3",
   "version": "3.8.3"
  }
 },
 "nbformat": 4,
 "nbformat_minor": 4
}
