{
 "cells": [
  {
   "cell_type": "markdown",
   "metadata": {},
   "source": [
    "# Naive Bayes"
   ]
  },
  {
   "cell_type": "markdown",
   "metadata": {},
   "source": [
    "## Análise de Sentimentos"
   ]
  },
  {
   "cell_type": "code",
   "execution_count": 1,
   "metadata": {},
   "outputs": [],
   "source": [
    "import nltk\n",
    "import re\n",
    "import pandas as pd\n",
    "from sklearn.feature_extraction.text import CountVectorizer\n",
    "from sklearn.naive_bayes import MultinomialNB\n",
    "from sklearn import metrics\n",
    "from sklearn.model_selection import cross_val_predict"
   ]
  },
  {
   "cell_type": "markdown",
   "metadata": {},
   "source": [
    "**Ler arquivo de dados e conta a quantidade de linhas**"
   ]
  },
  {
   "cell_type": "code",
   "execution_count": 2,
   "metadata": {},
   "outputs": [],
   "source": [
    "dataset = pd.read_csv('Tweets_Mg.csv',encoding='utf-8')"
   ]
  },
  {
   "cell_type": "code",
   "execution_count": 3,
   "metadata": {},
   "outputs": [
    {
     "name": "stdout",
     "output_type": "stream",
     "text": [
      "<class 'pandas.core.frame.DataFrame'>\n",
      "RangeIndex: 8199 entries, 0 to 8198\n",
      "Data columns (total 26 columns):\n",
      " #   Column                     Non-Null Count  Dtype  \n",
      "---  ------                     --------------  -----  \n",
      " 0   Unnamed: 0                 8199 non-null   int64  \n",
      " 1   Created At                 8199 non-null   object \n",
      " 2   Text                       8199 non-null   object \n",
      " 3   Geo Coordinates.latitude   104 non-null    float64\n",
      " 4   Geo Coordinates.longitude  104 non-null    float64\n",
      " 5   User Location              5489 non-null   object \n",
      " 6   Username                   8199 non-null   object \n",
      " 7   User Screen Name           8199 non-null   object \n",
      " 8   Retweet Count              8199 non-null   int64  \n",
      " 9   Classificacao              8199 non-null   object \n",
      " 10  Observação                 1 non-null      object \n",
      " 11  Unnamed: 10                0 non-null      float64\n",
      " 12  Unnamed: 11                0 non-null      float64\n",
      " 13  Unnamed: 12                0 non-null      float64\n",
      " 14  Unnamed: 13                0 non-null      float64\n",
      " 15  Unnamed: 14                0 non-null      float64\n",
      " 16  Unnamed: 15                0 non-null      float64\n",
      " 17  Unnamed: 16                0 non-null      float64\n",
      " 18  Unnamed: 17                0 non-null      float64\n",
      " 19  Unnamed: 18                0 non-null      float64\n",
      " 20  Unnamed: 19                0 non-null      float64\n",
      " 21  Unnamed: 20                0 non-null      float64\n",
      " 22  Unnamed: 21                0 non-null      float64\n",
      " 23  Unnamed: 22                0 non-null      float64\n",
      " 24  Unnamed: 23                0 non-null      float64\n",
      " 25  Unnamed: 24                0 non-null      float64\n",
      "dtypes: float64(17), int64(2), object(7)\n",
      "memory usage: 1.6+ MB\n"
     ]
    }
   ],
   "source": [
    "dataset.info()"
   ]
  },
  {
   "cell_type": "code",
   "execution_count": 4,
   "metadata": {},
   "outputs": [
    {
     "name": "stderr",
     "output_type": "stream",
     "text": [
      "<ipython-input-4-a165b36d400b>:2: FutureWarning: Passing a negative integer is deprecated in version 1.0 and will not be supported in future version. Instead, use None to not limit the column width.\n",
      "  pd.set_option('display.max_colwidth', -1)\n"
     ]
    },
    {
     "data": {
      "text/plain": [
       "0     ���⛪ @ Catedral de Santo Antônio - Governador Valadares/MG https://t.co/JSbKamIqUJ                                                         \n",
       "1     � @ Governador Valadares, Minas Gerais https://t.co/B3ThIDJCSf                                                                             \n",
       "2     �� @ Governador Valadares, Minas Gerais https://t.co/dPkgzVR2Qw                                                                            \n",
       "3     ��� https://t.co/BnDsO34qK0                                                                                                                \n",
       "4     ��� PSOL vai questionar aumento de vereadores e prefeito de BH na Justiça - Politica - Estado de Minas https://t.co/DMg7BGsek5             \n",
       "                                                                   ...                                                                           \n",
       "95    #noticiasdorenan Uso de depósitos judiciais pelo governo tem nova polêmica em MG: O Banco… https://t.co/kHuZpKQaj5                         \n",
       "96    #OperacaoBetaLab #TimBeta #Beta #BetaLab #BetaAjudaBeta #BetaSegueBeta UOL: Desastre ambiental em MG: Empresas ped… https://t.co/kwyeKjhtcI\n",
       "97    #OperacaoBetaLab #TimBeta #Beta #BetaLab #BetaAjudaBeta #BetaSegueBeta UOL: Governo em calamidade financeira: BB a… https://t.co/1rWaHUACqt\n",
       "98    #OperacaoBetaLab #TimBeta #Beta #BetaLab #BetaAjudaBeta #BetaSegueBeta UOL: Polêmica com filho de Pimentel: Govern… https://t.co/E1EhSA9Ti3\n",
       "99    #operacaobetalab BB avisa Justiça que governo de MG não tem recursos em conta judicial https://t.co/W6AoFMMsvA #rt #sdv                    \n",
       "Name: Text, Length: 100, dtype: object"
      ]
     },
     "execution_count": 4,
     "metadata": {},
     "output_type": "execute_result"
    }
   ],
   "source": [
    "# Expandir o tamanho de exibição de coluna de texto\n",
    "pd.set_option('display.max_colwidth', -1)\n",
    "dataset.Text.head(100)"
   ]
  },
  {
   "cell_type": "markdown",
   "metadata": {},
   "source": [
    "**Excluir Linhas duplicadas**"
   ]
  },
  {
   "cell_type": "code",
   "execution_count": 5,
   "metadata": {},
   "outputs": [],
   "source": [
    "dataset.drop_duplicates(['Text'],inplace=True)"
   ]
  },
  {
   "cell_type": "code",
   "execution_count": 6,
   "metadata": {},
   "outputs": [
    {
     "data": {
      "text/plain": [
       "Unnamed: 0                   5765\n",
       "Created At                   5765\n",
       "Text                         5765\n",
       "Geo Coordinates.latitude     104 \n",
       "Geo Coordinates.longitude    104 \n",
       "User Location                3851\n",
       "Username                     5765\n",
       "User Screen Name             5765\n",
       "Retweet Count                5765\n",
       "Classificacao                5765\n",
       "Observação                   1   \n",
       "Unnamed: 10                  0   \n",
       "Unnamed: 11                  0   \n",
       "Unnamed: 12                  0   \n",
       "Unnamed: 13                  0   \n",
       "Unnamed: 14                  0   \n",
       "Unnamed: 15                  0   \n",
       "Unnamed: 16                  0   \n",
       "Unnamed: 17                  0   \n",
       "Unnamed: 18                  0   \n",
       "Unnamed: 19                  0   \n",
       "Unnamed: 20                  0   \n",
       "Unnamed: 21                  0   \n",
       "Unnamed: 22                  0   \n",
       "Unnamed: 23                  0   \n",
       "Unnamed: 24                  0   \n",
       "dtype: int64"
      ]
     },
     "execution_count": 6,
     "metadata": {},
     "output_type": "execute_result"
    }
   ],
   "source": [
    "dataset.count()"
   ]
  },
  {
   "cell_type": "markdown",
   "metadata": {},
   "source": [
    "**Removendo Colunas desnecessárias**"
   ]
  },
  {
   "cell_type": "code",
   "execution_count": 7,
   "metadata": {},
   "outputs": [
    {
     "name": "stdout",
     "output_type": "stream",
     "text": [
      "Colunas Deletadas: Unnamed: 0\n",
      "Colunas Deletadas: Unnamed: 10\n",
      "Colunas Deletadas: Unnamed: 11\n",
      "Colunas Deletadas: Unnamed: 12\n",
      "Colunas Deletadas: Unnamed: 13\n",
      "Colunas Deletadas: Unnamed: 14\n",
      "Colunas Deletadas: Unnamed: 15\n",
      "Colunas Deletadas: Unnamed: 16\n",
      "Colunas Deletadas: Unnamed: 17\n",
      "Colunas Deletadas: Unnamed: 18\n",
      "Colunas Deletadas: Unnamed: 19\n",
      "Colunas Deletadas: Unnamed: 20\n",
      "Colunas Deletadas: Unnamed: 21\n",
      "Colunas Deletadas: Unnamed: 22\n",
      "Colunas Deletadas: Unnamed: 23\n",
      "Colunas Deletadas: Unnamed: 24\n"
     ]
    }
   ],
   "source": [
    "for i in dataset.columns.values:\n",
    "    if i.startswith('Unnamed'):\n",
    "        dataset.drop(i, axis=1, inplace=True)\n",
    "        print ('Colunas Deletadas:', i)"
   ]
  },
  {
   "cell_type": "code",
   "execution_count": 8,
   "metadata": {},
   "outputs": [
    {
     "data": {
      "text/plain": [
       "Index(['Created At', 'Text', 'Geo Coordinates.latitude',\n",
       "       'Geo Coordinates.longitude', 'User Location', 'Username',\n",
       "       'User Screen Name', 'Retweet Count', 'Classificacao', 'Observação'],\n",
       "      dtype='object')"
      ]
     },
     "execution_count": 8,
     "metadata": {},
     "output_type": "execute_result"
    }
   ],
   "source": [
    "# Visualizando as colunas do dataset\n",
    "dataset.columns"
   ]
  },
  {
   "cell_type": "markdown",
   "metadata": {},
   "source": [
    "**Distribuição das classes neutros, positivos e negativos**"
   ]
  },
  {
   "cell_type": "code",
   "execution_count": 9,
   "metadata": {},
   "outputs": [
    {
     "data": {
      "text/plain": [
       "<matplotlib.axes._subplots.AxesSubplot at 0x224f06b6250>"
      ]
     },
     "execution_count": 9,
     "metadata": {},
     "output_type": "execute_result"
    },
    {
     "data": {
      "image/png": "[encoded data removed]",
      "text/plain": [
       "<Figure size 432x288 with 1 Axes>"
      ]
     },
     "metadata": {
      "needs_background": "light"
     },
     "output_type": "display_data"
    }
   ],
   "source": [
    "%matplotlib inline\n",
    "dataset.Classificacao.value_counts().plot(kind='bar')"
   ]
  },
  {
   "cell_type": "markdown",
   "metadata": {},
   "source": [
    "** Separando tweets e suas classes\n",
    "**"
   ]
  },
  {
   "cell_type": "code",
   "execution_count": 10,
   "metadata": {},
   "outputs": [],
   "source": [
    "tweets = dataset['Text']\n",
    "classes = dataset['Classificacao']"
   ]
  },
  {
   "cell_type": "code",
   "execution_count": 14,
   "metadata": {},
   "outputs": [
    {
     "data": {
      "text/plain": [
       "0    Neutro  \n",
       "1    Neutro  \n",
       "2    Neutro  \n",
       "3    Neutro  \n",
       "4    Negativo\n",
       "5    Neutro  \n",
       "6    Neutro  \n",
       "7    Neutro  \n",
       "8    Negativo\n",
       "9    Neutro  \n",
       "Name: Classificacao, dtype: object"
      ]
     },
     "execution_count": 14,
     "metadata": {},
     "output_type": "execute_result"
    }
   ],
   "source": [
    "classes.head(10)"
   ]
  },
  {
   "cell_type": "markdown",
   "metadata": {
    "collapsed": true
   },
   "source": [
    "**Gerando o modelo**"
   ]
  },
  {
   "cell_type": "code",
   "execution_count": 15,
   "metadata": {},
   "outputs": [],
   "source": [
    "vectorizer = CountVectorizer(analyzer=\"word\")\n",
    "freq_tweets = vectorizer.fit_transform(tweets)"
   ]
  },
  {
   "cell_type": "code",
   "execution_count": 16,
   "metadata": {},
   "outputs": [
    {
     "data": {
      "text/plain": [
       "scipy.sparse.csr.csr_matrix"
      ]
     },
     "execution_count": 16,
     "metadata": {},
     "output_type": "execute_result"
    }
   ],
   "source": [
    "type(freq_tweets)"
   ]
  },
  {
   "cell_type": "code",
   "execution_count": 17,
   "metadata": {},
   "outputs": [
    {
     "data": {
      "text/plain": [
       "(5765, 13029)"
      ]
     },
     "execution_count": 17,
     "metadata": {},
     "output_type": "execute_result"
    }
   ],
   "source": [
    "freq_tweets.shape"
   ]
  },
  {
   "cell_type": "code",
   "execution_count": 18,
   "metadata": {},
   "outputs": [
    {
     "data": {
      "text/plain": [
       "array([[0, 0, 0, ..., 0, 0, 0],\n",
       "       [0, 0, 0, ..., 0, 0, 0],\n",
       "       [0, 0, 0, ..., 0, 0, 0],\n",
       "       ...,\n",
       "       [0, 0, 0, ..., 0, 0, 0],\n",
       "       [0, 0, 0, ..., 0, 0, 0],\n",
       "       [0, 0, 0, ..., 0, 0, 0]], dtype=int64)"
      ]
     },
     "execution_count": 18,
     "metadata": {},
     "output_type": "execute_result"
    }
   ],
   "source": [
    "freq_tweets.A"
   ]
  },
  {
   "cell_type": "markdown",
   "metadata": {},
   "source": [
    "**Cria um modelo usando Naive Bayes Multinomial**"
   ]
  },
  {
   "cell_type": "code",
   "execution_count": 19,
   "metadata": {},
   "outputs": [
    {
     "data": {
      "text/plain": [
       "MultinomialNB()"
      ]
     },
     "execution_count": 19,
     "metadata": {},
     "output_type": "execute_result"
    }
   ],
   "source": [
    "modelo = MultinomialNB()\n",
    "modelo.fit(freq_tweets,classes)"
   ]
  },
  {
   "cell_type": "markdown",
   "metadata": {},
   "source": [
    "** Testando o modelo com algumas instâncias simples**"
   ]
  },
  {
   "cell_type": "code",
   "execution_count": 20,
   "metadata": {},
   "outputs": [],
   "source": [
    "# defina instâncias de teste dentro de uma lista\n",
    "testes = ['Esse governo está no início, vamos ver o que vai dar',\n",
    "          'Estou muito feliz com o governo de Minas esse ano',\n",
    "          'O estado de Minas Gerais decretou calamidade financeira!!!',\n",
    "          'A segurança desse país está deixando a desejar',\n",
    "          'O governador de Minas é mais uma vez do PT']"
   ]
  },
  {
   "cell_type": "code",
   "execution_count": 21,
   "metadata": {},
   "outputs": [],
   "source": [
    "# Transforma os dados de teste em vetores de palavras.\n",
    "freq_testes = vectorizer.transform(testes)"
   ]
  },
  {
   "cell_type": "code",
   "execution_count": 22,
   "metadata": {},
   "outputs": [
    {
     "name": "stdout",
     "output_type": "stream",
     "text": [
      "Esse governo está no início, vamos ver o que vai dar, Neutro\n",
      "Estou muito feliz com o governo de Minas esse ano, Neutro\n",
      "O estado de Minas Gerais decretou calamidade financeira!!!, Negativo\n",
      "A segurança desse país está deixando a desejar, Neutro\n",
      "O governador de Minas é mais uma vez do PT, Neutro\n"
     ]
    }
   ],
   "source": [
    "# Fazendo a classificação com o modelo treinado.\n",
    "for t, c in zip (testes,modelo.predict(freq_testes)):\n",
    "    print (t +\", \"+ c)"
   ]
  },
  {
   "cell_type": "code",
   "execution_count": 23,
   "metadata": {},
   "outputs": [
    {
     "name": "stdout",
     "output_type": "stream",
     "text": [
      "['Negativo' 'Neutro' 'Positivo']\n"
     ]
    },
    {
     "data": {
      "text/plain": [
       "array([[0.18, 0.82, 0.  ],\n",
       "       [0.02, 0.98, 0.  ],\n",
       "       [0.99, 0.01, 0.  ],\n",
       "       [0.1 , 0.89, 0.01],\n",
       "       [0.15, 0.85, 0.  ]])"
      ]
     },
     "execution_count": 23,
     "metadata": {},
     "output_type": "execute_result"
    }
   ],
   "source": [
    "# Probabilidades de cada classe\n",
    "print (modelo.classes_)\n",
    "modelo.predict_proba(freq_testes).round(2)"
   ]
  },
  {
   "cell_type": "markdown",
   "metadata": {},
   "source": [
    "## Avaliação o modelo ##"
   ]
  },
  {
   "cell_type": "markdown",
   "metadata": {},
   "source": [
    "* Usaremos a técnica de Cross Validation para avaliação dos modelos.\n",
    "* Esta técnica será usada com 10 folds."
   ]
  },
  {
   "cell_type": "markdown",
   "metadata": {
    "collapsed": true
   },
   "source": [
    "**Fazendo o cross validation do modelo**"
   ]
  },
  {
   "cell_type": "code",
   "execution_count": 24,
   "metadata": {},
   "outputs": [],
   "source": [
    "resultados = cross_val_predict(modelo, freq_tweets, classes, cv=10)"
   ]
  },
  {
   "cell_type": "markdown",
   "metadata": {},
   "source": [
    "**Matriz de confusão**"
   ]
  },
  {
   "cell_type": "code",
   "execution_count": 25,
   "metadata": {
    "scrolled": false
   },
   "outputs": [
    {
     "name": "stdout",
     "output_type": "stream",
     "text": [
      "Predito   Negativo  Neutro  Positivo   All\n",
      "Real                                      \n",
      "Negativo  846       100     5         951 \n",
      "Neutro    206       1656    112       1974\n",
      "Positivo  53        294     2493      2840\n",
      "All       1105      2050    2610      5765\n"
     ]
    }
   ],
   "source": [
    "print (pd.crosstab(classes, resultados, rownames=['Real'], colnames=['Predito'], margins=True))"
   ]
  },
  {
   "cell_type": "markdown",
   "metadata": {
    "collapsed": true
   },
   "source": [
    "** Métricas de validação do modelo**"
   ]
  },
  {
   "cell_type": "code",
   "execution_count": 26,
   "metadata": {},
   "outputs": [
    {
     "name": "stderr",
     "output_type": "stream",
     "text": [
      "C:\\Users\\Kellen\\anaconda3\\lib\\site-packages\\sklearn\\utils\\validation.py:68: FutureWarning: Pass labels=['Positivo', 'Negativo', 'Neutro'] as keyword args. From version 0.25 passing these as positional arguments will result in an error\n",
      "  warnings.warn(\"Pass {} as keyword args. From version 0.25 \"\n"
     ]
    },
    {
     "name": "stdout",
     "output_type": "stream",
     "text": [
      "              precision    recall  f1-score   support\n",
      "\n",
      "    Positivo       0.96      0.88      0.91      2840\n",
      "    Negativo       0.77      0.89      0.82       951\n",
      "      Neutro       0.81      0.84      0.82      1974\n",
      "\n",
      "    accuracy                           0.87      5765\n",
      "   macro avg       0.84      0.87      0.85      5765\n",
      "weighted avg       0.87      0.87      0.87      5765\n",
      "\n"
     ]
    }
   ],
   "source": [
    "sentimento=['Positivo','Negativo','Neutro']\n",
    "print (metrics.classification_report(classes,resultados,sentimento))"
   ]
  },
  {
   "cell_type": "markdown",
   "metadata": {},
   "source": [
    "## Tunning do Naive Bayes"
   ]
  },
  {
   "cell_type": "code",
   "execution_count": 27,
   "metadata": {},
   "outputs": [],
   "source": [
    "from sklearn.model_selection import GridSearchCV"
   ]
  },
  {
   "cell_type": "markdown",
   "metadata": {},
   "source": [
    "** Defina uma lista de valores de Alpha**"
   ]
  },
  {
   "cell_type": "code",
   "execution_count": 28,
   "metadata": {},
   "outputs": [
    {
     "data": {
      "text/plain": [
       "[1, 2, 3, 4, 5, 6, 7, 8, 9, 10]"
      ]
     },
     "execution_count": 28,
     "metadata": {},
     "output_type": "execute_result"
    }
   ],
   "source": [
    "lista_alpha = list(range(1,11))\n",
    "lista_alpha"
   ]
  },
  {
   "cell_type": "markdown",
   "metadata": {},
   "source": [
    "** Cria um dicionario com o nome do parametro e a lista de valores **"
   ]
  },
  {
   "cell_type": "code",
   "execution_count": 29,
   "metadata": {},
   "outputs": [],
   "source": [
    "parametros_grid = dict(alpha=lista_alpha)"
   ]
  },
  {
   "cell_type": "markdown",
   "metadata": {},
   "source": [
    "**Instancia um modelo**"
   ]
  },
  {
   "cell_type": "code",
   "execution_count": 30,
   "metadata": {},
   "outputs": [],
   "source": [
    "nvModelo = MultinomialNB()"
   ]
  },
  {
   "cell_type": "markdown",
   "metadata": {},
   "source": [
    "** Cria o objeto Grid**"
   ]
  },
  {
   "cell_type": "code",
   "execution_count": 31,
   "metadata": {},
   "outputs": [],
   "source": [
    "grid = GridSearchCV(nvModelo, parametros_grid, cv=10, scoring='accuracy')"
   ]
  },
  {
   "cell_type": "markdown",
   "metadata": {},
   "source": [
    "**Roda o Grid**"
   ]
  },
  {
   "cell_type": "code",
   "execution_count": 32,
   "metadata": {},
   "outputs": [
    {
     "data": {
      "text/plain": [
       "GridSearchCV(cv=10, estimator=MultinomialNB(),\n",
       "             param_grid={'alpha': [1, 2, 3, 4, 5, 6, 7, 8, 9, 10]},\n",
       "             scoring='accuracy')"
      ]
     },
     "execution_count": 32,
     "metadata": {},
     "output_type": "execute_result"
    }
   ],
   "source": [
    "freq_tweets = vectorizer.fit_transform(tweets)\n",
    "grid.fit(freq_tweets, classes)"
   ]
  },
  {
   "cell_type": "markdown",
   "metadata": {},
   "source": [
    "** Melhores Scores**"
   ]
  },
  {
   "cell_type": "code",
   "execution_count": 34,
   "metadata": {},
   "outputs": [
    {
     "data": {
      "text/html": [
       "<div>\n",
       "<style scoped>\n",
       "    .dataframe tbody tr th:only-of-type {\n",
       "        vertical-align: middle;\n",
       "    }\n",
       "\n",
       "    .dataframe tbody tr th {\n",
       "        vertical-align: top;\n",
       "    }\n",
       "\n",
       "    .dataframe thead th {\n",
       "        text-align: right;\n",
       "    }\n",
       "</style>\n",
       "<table border=\"1\" class=\"dataframe\">\n",
       "  <thead>\n",
       "    <tr style=\"text-align: right;\">\n",
       "      <th></th>\n",
       "      <th>mean_fit_time</th>\n",
       "      <th>std_fit_time</th>\n",
       "      <th>mean_score_time</th>\n",
       "      <th>std_score_time</th>\n",
       "      <th>param_alpha</th>\n",
       "      <th>params</th>\n",
       "      <th>split0_test_score</th>\n",
       "      <th>split1_test_score</th>\n",
       "      <th>split2_test_score</th>\n",
       "      <th>split3_test_score</th>\n",
       "      <th>split4_test_score</th>\n",
       "      <th>split5_test_score</th>\n",
       "      <th>split6_test_score</th>\n",
       "      <th>split7_test_score</th>\n",
       "      <th>split8_test_score</th>\n",
       "      <th>split9_test_score</th>\n",
       "      <th>mean_test_score</th>\n",
       "      <th>std_test_score</th>\n",
       "      <th>rank_test_score</th>\n",
       "    </tr>\n",
       "  </thead>\n",
       "  <tbody>\n",
       "    <tr>\n",
       "      <th>0</th>\n",
       "      <td>0.072156</td>\n",
       "      <td>0.021666</td>\n",
       "      <td>0.004697</td>\n",
       "      <td>0.001346</td>\n",
       "      <td>1</td>\n",
       "      <td>{'alpha': 1}</td>\n",
       "      <td>0.502600</td>\n",
       "      <td>0.866551</td>\n",
       "      <td>0.823224</td>\n",
       "      <td>0.918544</td>\n",
       "      <td>0.937608</td>\n",
       "      <td>0.968750</td>\n",
       "      <td>0.918403</td>\n",
       "      <td>0.897569</td>\n",
       "      <td>0.916667</td>\n",
       "      <td>0.914931</td>\n",
       "      <td>0.866485</td>\n",
       "      <td>0.126901</td>\n",
       "      <td>1</td>\n",
       "    </tr>\n",
       "    <tr>\n",
       "      <th>1</th>\n",
       "      <td>0.056576</td>\n",
       "      <td>0.003602</td>\n",
       "      <td>0.004392</td>\n",
       "      <td>0.000906</td>\n",
       "      <td>2</td>\n",
       "      <td>{'alpha': 2}</td>\n",
       "      <td>0.504333</td>\n",
       "      <td>0.899480</td>\n",
       "      <td>0.821490</td>\n",
       "      <td>0.902946</td>\n",
       "      <td>0.934142</td>\n",
       "      <td>0.946181</td>\n",
       "      <td>0.914931</td>\n",
       "      <td>0.913194</td>\n",
       "      <td>0.897569</td>\n",
       "      <td>0.909722</td>\n",
       "      <td>0.864399</td>\n",
       "      <td>0.124035</td>\n",
       "      <td>2</td>\n",
       "    </tr>\n",
       "    <tr>\n",
       "      <th>2</th>\n",
       "      <td>0.076821</td>\n",
       "      <td>0.012400</td>\n",
       "      <td>0.005697</td>\n",
       "      <td>0.002049</td>\n",
       "      <td>3</td>\n",
       "      <td>{'alpha': 3}</td>\n",
       "      <td>0.523397</td>\n",
       "      <td>0.906412</td>\n",
       "      <td>0.809359</td>\n",
       "      <td>0.896014</td>\n",
       "      <td>0.922010</td>\n",
       "      <td>0.940972</td>\n",
       "      <td>0.920139</td>\n",
       "      <td>0.911458</td>\n",
       "      <td>0.881944</td>\n",
       "      <td>0.907986</td>\n",
       "      <td>0.861969</td>\n",
       "      <td>0.117783</td>\n",
       "      <td>3</td>\n",
       "    </tr>\n",
       "    <tr>\n",
       "      <th>3</th>\n",
       "      <td>0.066963</td>\n",
       "      <td>0.017685</td>\n",
       "      <td>0.006599</td>\n",
       "      <td>0.004945</td>\n",
       "      <td>4</td>\n",
       "      <td>{'alpha': 4}</td>\n",
       "      <td>0.521664</td>\n",
       "      <td>0.899480</td>\n",
       "      <td>0.807626</td>\n",
       "      <td>0.885615</td>\n",
       "      <td>0.920277</td>\n",
       "      <td>0.935764</td>\n",
       "      <td>0.902778</td>\n",
       "      <td>0.902778</td>\n",
       "      <td>0.880208</td>\n",
       "      <td>0.897569</td>\n",
       "      <td>0.855376</td>\n",
       "      <td>0.115788</td>\n",
       "      <td>5</td>\n",
       "    </tr>\n",
       "    <tr>\n",
       "      <th>4</th>\n",
       "      <td>0.063366</td>\n",
       "      <td>0.011066</td>\n",
       "      <td>0.004303</td>\n",
       "      <td>0.001004</td>\n",
       "      <td>5</td>\n",
       "      <td>{'alpha': 5}</td>\n",
       "      <td>0.518198</td>\n",
       "      <td>0.897747</td>\n",
       "      <td>0.798960</td>\n",
       "      <td>0.883882</td>\n",
       "      <td>0.916811</td>\n",
       "      <td>0.935764</td>\n",
       "      <td>0.878472</td>\n",
       "      <td>0.902778</td>\n",
       "      <td>0.875000</td>\n",
       "      <td>0.888889</td>\n",
       "      <td>0.849650</td>\n",
       "      <td>0.115619</td>\n",
       "      <td>7</td>\n",
       "    </tr>\n",
       "    <tr>\n",
       "      <th>5</th>\n",
       "      <td>0.078266</td>\n",
       "      <td>0.043406</td>\n",
       "      <td>0.004791</td>\n",
       "      <td>0.002089</td>\n",
       "      <td>6</td>\n",
       "      <td>{'alpha': 6}</td>\n",
       "      <td>0.519931</td>\n",
       "      <td>0.894281</td>\n",
       "      <td>0.913345</td>\n",
       "      <td>0.878683</td>\n",
       "      <td>0.916811</td>\n",
       "      <td>0.934028</td>\n",
       "      <td>0.864583</td>\n",
       "      <td>0.897569</td>\n",
       "      <td>0.873264</td>\n",
       "      <td>0.885417</td>\n",
       "      <td>0.857791</td>\n",
       "      <td>0.114425</td>\n",
       "      <td>4</td>\n",
       "    </tr>\n",
       "    <tr>\n",
       "      <th>6</th>\n",
       "      <td>0.065549</td>\n",
       "      <td>0.016508</td>\n",
       "      <td>0.004086</td>\n",
       "      <td>0.000702</td>\n",
       "      <td>7</td>\n",
       "      <td>{'alpha': 7}</td>\n",
       "      <td>0.516464</td>\n",
       "      <td>0.892548</td>\n",
       "      <td>0.902946</td>\n",
       "      <td>0.876950</td>\n",
       "      <td>0.911612</td>\n",
       "      <td>0.932292</td>\n",
       "      <td>0.861111</td>\n",
       "      <td>0.892361</td>\n",
       "      <td>0.869792</td>\n",
       "      <td>0.883681</td>\n",
       "      <td>0.853976</td>\n",
       "      <td>0.114210</td>\n",
       "      <td>6</td>\n",
       "    </tr>\n",
       "    <tr>\n",
       "      <th>7</th>\n",
       "      <td>0.057968</td>\n",
       "      <td>0.004214</td>\n",
       "      <td>0.004801</td>\n",
       "      <td>0.001777</td>\n",
       "      <td>8</td>\n",
       "      <td>{'alpha': 8}</td>\n",
       "      <td>0.526863</td>\n",
       "      <td>0.892548</td>\n",
       "      <td>0.788562</td>\n",
       "      <td>0.875217</td>\n",
       "      <td>0.906412</td>\n",
       "      <td>0.927083</td>\n",
       "      <td>0.855903</td>\n",
       "      <td>0.890625</td>\n",
       "      <td>0.864583</td>\n",
       "      <td>0.875000</td>\n",
       "      <td>0.840280</td>\n",
       "      <td>0.110155</td>\n",
       "      <td>8</td>\n",
       "    </tr>\n",
       "    <tr>\n",
       "      <th>8</th>\n",
       "      <td>0.065564</td>\n",
       "      <td>0.014997</td>\n",
       "      <td>0.004400</td>\n",
       "      <td>0.000664</td>\n",
       "      <td>9</td>\n",
       "      <td>{'alpha': 9}</td>\n",
       "      <td>0.533795</td>\n",
       "      <td>0.889081</td>\n",
       "      <td>0.783362</td>\n",
       "      <td>0.870017</td>\n",
       "      <td>0.902946</td>\n",
       "      <td>0.927083</td>\n",
       "      <td>0.850694</td>\n",
       "      <td>0.888889</td>\n",
       "      <td>0.861111</td>\n",
       "      <td>0.871528</td>\n",
       "      <td>0.837851</td>\n",
       "      <td>0.107575</td>\n",
       "      <td>9</td>\n",
       "    </tr>\n",
       "    <tr>\n",
       "      <th>9</th>\n",
       "      <td>0.055679</td>\n",
       "      <td>0.003433</td>\n",
       "      <td>0.003898</td>\n",
       "      <td>0.000537</td>\n",
       "      <td>10</td>\n",
       "      <td>{'alpha': 10}</td>\n",
       "      <td>0.532062</td>\n",
       "      <td>0.882149</td>\n",
       "      <td>0.783362</td>\n",
       "      <td>0.870017</td>\n",
       "      <td>0.896014</td>\n",
       "      <td>0.923611</td>\n",
       "      <td>0.824653</td>\n",
       "      <td>0.881944</td>\n",
       "      <td>0.855903</td>\n",
       "      <td>0.868056</td>\n",
       "      <td>0.831777</td>\n",
       "      <td>0.106395</td>\n",
       "      <td>10</td>\n",
       "    </tr>\n",
       "  </tbody>\n",
       "</table>\n",
       "</div>"
      ],
      "text/plain": [
       "   mean_fit_time  std_fit_time  mean_score_time  std_score_time param_alpha  \\\n",
       "0  0.072156       0.021666      0.004697         0.001346        1            \n",
       "1  0.056576       0.003602      0.004392         0.000906        2            \n",
       "2  0.076821       0.012400      0.005697         0.002049        3            \n",
       "3  0.066963       0.017685      0.006599         0.004945        4            \n",
       "4  0.063366       0.011066      0.004303         0.001004        5            \n",
       "5  0.078266       0.043406      0.004791         0.002089        6            \n",
       "6  0.065549       0.016508      0.004086         0.000702        7            \n",
       "7  0.057968       0.004214      0.004801         0.001777        8            \n",
       "8  0.065564       0.014997      0.004400         0.000664        9            \n",
       "9  0.055679       0.003433      0.003898         0.000537        10           \n",
       "\n",
       "          params  split0_test_score  split1_test_score  split2_test_score  \\\n",
       "0  {'alpha': 1}   0.502600           0.866551           0.823224            \n",
       "1  {'alpha': 2}   0.504333           0.899480           0.821490            \n",
       "2  {'alpha': 3}   0.523397           0.906412           0.809359            \n",
       "3  {'alpha': 4}   0.521664           0.899480           0.807626            \n",
       "4  {'alpha': 5}   0.518198           0.897747           0.798960            \n",
       "5  {'alpha': 6}   0.519931           0.894281           0.913345            \n",
       "6  {'alpha': 7}   0.516464           0.892548           0.902946            \n",
       "7  {'alpha': 8}   0.526863           0.892548           0.788562            \n",
       "8  {'alpha': 9}   0.533795           0.889081           0.783362            \n",
       "9  {'alpha': 10}  0.532062           0.882149           0.783362            \n",
       "\n",
       "   split3_test_score  split4_test_score  split5_test_score  split6_test_score  \\\n",
       "0  0.918544           0.937608           0.968750           0.918403            \n",
       "1  0.902946           0.934142           0.946181           0.914931            \n",
       "2  0.896014           0.922010           0.940972           0.920139            \n",
       "3  0.885615           0.920277           0.935764           0.902778            \n",
       "4  0.883882           0.916811           0.935764           0.878472            \n",
       "5  0.878683           0.916811           0.934028           0.864583            \n",
       "6  0.876950           0.911612           0.932292           0.861111            \n",
       "7  0.875217           0.906412           0.927083           0.855903            \n",
       "8  0.870017           0.902946           0.927083           0.850694            \n",
       "9  0.870017           0.896014           0.923611           0.824653            \n",
       "\n",
       "   split7_test_score  split8_test_score  split9_test_score  mean_test_score  \\\n",
       "0  0.897569           0.916667           0.914931           0.866485          \n",
       "1  0.913194           0.897569           0.909722           0.864399          \n",
       "2  0.911458           0.881944           0.907986           0.861969          \n",
       "3  0.902778           0.880208           0.897569           0.855376          \n",
       "4  0.902778           0.875000           0.888889           0.849650          \n",
       "5  0.897569           0.873264           0.885417           0.857791          \n",
       "6  0.892361           0.869792           0.883681           0.853976          \n",
       "7  0.890625           0.864583           0.875000           0.840280          \n",
       "8  0.888889           0.861111           0.871528           0.837851          \n",
       "9  0.881944           0.855903           0.868056           0.831777          \n",
       "\n",
       "   std_test_score  rank_test_score  \n",
       "0  0.126901        1                \n",
       "1  0.124035        2                \n",
       "2  0.117783        3                \n",
       "3  0.115788        5                \n",
       "4  0.115619        7                \n",
       "5  0.114425        4                \n",
       "6  0.114210        6                \n",
       "7  0.110155        8                \n",
       "8  0.107575        9                \n",
       "9  0.106395        10               "
      ]
     },
     "execution_count": 34,
     "metadata": {},
     "output_type": "execute_result"
    }
   ],
   "source": [
    "pd.DataFrame(grid.cv_results_)"
   ]
  },
  {
   "cell_type": "markdown",
   "metadata": {},
   "source": [
    "** Melhores parâmetros**"
   ]
  },
  {
   "cell_type": "code",
   "execution_count": 35,
   "metadata": {},
   "outputs": [
    {
     "data": {
      "text/plain": [
       "{'alpha': 1}"
      ]
     },
     "execution_count": 35,
     "metadata": {},
     "output_type": "execute_result"
    }
   ],
   "source": [
    "grid.best_params_"
   ]
  },
  {
   "cell_type": "code",
   "execution_count": 36,
   "metadata": {},
   "outputs": [
    {
     "data": {
      "text/plain": [
       "0.8664846307529368"
      ]
     },
     "execution_count": 36,
     "metadata": {},
     "output_type": "execute_result"
    }
   ],
   "source": [
    "grid.best_score_"
   ]
  },
  {
   "cell_type": "code",
   "execution_count": 49,
   "metadata": {},
   "outputs": [
    {
     "data": {
      "text/plain": [
       "MultinomialNB(alpha=3)"
      ]
     },
     "execution_count": 49,
     "metadata": {},
     "output_type": "execute_result"
    }
   ],
   "source": [
    "vectorizer = CountVectorizer(analyzer=\"word\")\n",
    "freq_tweets = vectorizer.fit_transform(tweets)\n",
    "modelo = MultinomialNB(alpha=3)\n",
    "modelo.fit(freq_tweets,classes)"
   ]
  },
  {
   "cell_type": "code",
   "execution_count": 50,
   "metadata": {},
   "outputs": [],
   "source": [
    "freq_testes = vectorizer.transform(testes)"
   ]
  },
  {
   "cell_type": "code",
   "execution_count": 51,
   "metadata": {},
   "outputs": [
    {
     "data": {
      "text/plain": [
       "array(['Neutro', 'Neutro', 'Negativo', 'Neutro', 'Neutro'], dtype='<U8')"
      ]
     },
     "execution_count": 51,
     "metadata": {},
     "output_type": "execute_result"
    }
   ],
   "source": [
    "# Fazendo a classificação com o modelo treinado.\n",
    "modelo.predict(freq_testes)"
   ]
  },
  {
   "cell_type": "code",
   "execution_count": 52,
   "metadata": {},
   "outputs": [],
   "source": [
    "resultados = cross_val_predict(modelo, freq_tweets, classes, cv=10)"
   ]
  },
  {
   "cell_type": "code",
   "execution_count": 53,
   "metadata": {},
   "outputs": [
    {
     "name": "stderr",
     "output_type": "stream",
     "text": [
      "C:\\Users\\Kellen\\anaconda3\\lib\\site-packages\\sklearn\\utils\\validation.py:68: FutureWarning: Pass labels=['Positivo', 'Negativo', 'Neutro'] as keyword args. From version 0.25 passing these as positional arguments will result in an error\n",
      "  warnings.warn(\"Pass {} as keyword args. From version 0.25 \"\n"
     ]
    },
    {
     "name": "stdout",
     "output_type": "stream",
     "text": [
      "              precision    recall  f1-score   support\n",
      "\n",
      "    Positivo       0.92      0.91      0.91      2840\n",
      "    Negativo       0.83      0.82      0.83       951\n",
      "      Neutro       0.80      0.81      0.81      1974\n",
      "\n",
      "    accuracy                           0.86      5765\n",
      "   macro avg       0.85      0.85      0.85      5765\n",
      "weighted avg       0.86      0.86      0.86      5765\n",
      "\n"
     ]
    }
   ],
   "source": [
    "sentimento=['Positivo','Negativo','Neutro']\n",
    "print (metrics.classification_report(classes,resultados,sentimento))"
   ]
  },
  {
   "cell_type": "markdown",
   "metadata": {},
   "source": [
    "** Considerações Finais**"
   ]
  },
  {
   "cell_type": "markdown",
   "metadata": {},
   "source": [
    "* Considere aumentar a quantidade de dados de treino.\n",
    "\n",
    "* Pela sua simplicidade o Naive Bayes pode ser usado perfeitamente como um algoritmo de Baseline.\n",
    "\n",
    "* Considere alterar os parâmetros do algoritmo.\n",
    "\n",
    "* Em tarefas de classificação de textos considere utilizar outras modelagens como Bigrams por exemplo.\n",
    "\n",
    "* Em tarefas envolvendo textos outras técnicas como stemming ou remoção de stoptowords podem dar bons resultados.\n"
   ]
  }
 ],
 "metadata": {
  "kernelspec": {
   "display_name": "Python 3",
   "language": "python",
   "name": "python3"
  },
  "language_info": {
   "codemirror_mode": {
    "name": "ipython",
    "version": 3
   },
   "file_extension": ".py",
   "mimetype": "text/x-python",
   "name": "python",
   "nbconvert_exporter": "python",
   "pygments_lexer": "ipython3",
   "version": "3.8.3"
  }
 },
 "nbformat": 4,
 "nbformat_minor": 2
}
